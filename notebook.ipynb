{
 "cells": [
  {
   "cell_type": "code",
   "execution_count": 16,
   "metadata": {},
   "outputs": [
    {
     "name": "stdout",
     "output_type": "stream",
     "text": [
      "The autoreload extension is already loaded. To reload it, use:\n",
      "  %reload_ext autoreload\n"
     ]
    }
   ],
   "source": [
    "%load_ext autoreload\n",
    "%autoreload 2\n",
    "import numpy as np\n",
    "from qcdma.simulator import SimulatorQCDMA\n",
    "import matplotlib.pyplot as plt\n",
    "from itertools import product\n",
    "from tqdm.auto import tqdm\n",
    "import scienceplots\n",
    "plt.style.use([\"science\", \"ieee\"])"
   ]
  },
  {
   "cell_type": "code",
   "execution_count": null,
   "metadata": {},
   "outputs": [
    {
     "data": {
      "application/vnd.jupyter.widget-view+json": {
       "model_id": "d637fe87894842abb2b2dbbf3be850b2",
       "version_major": 2,
       "version_minor": 0
      },
      "text/plain": [
       "  0%|          | 0/1000 [00:00<?, ?it/s]"
      ]
     },
     "metadata": {},
     "output_type": "display_data"
    },
    {
     "ename": "KeyboardInterrupt",
     "evalue": "",
     "output_type": "error",
     "traceback": [
      "\u001b[0;31m---------------------------------------------------------------------------\u001b[0m",
      "\u001b[0;31mKeyboardInterrupt\u001b[0m                         Traceback (most recent call last)",
      "Cell \u001b[0;32mIn[26], line 11\u001b[0m\n\u001b[1;32m      9\u001b[0m pbar\u001b[38;5;241m.\u001b[39mset_postfix({\u001b[38;5;124m\"\u001b[39m\u001b[38;5;124mn\u001b[39m\u001b[38;5;124m\"\u001b[39m: n})\n\u001b[1;32m     10\u001b[0m \u001b[38;5;28;01mfor\u001b[39;00m d \u001b[38;5;129;01min\u001b[39;00m data:\n\u001b[0;32m---> 11\u001b[0m     result \u001b[38;5;241m=\u001b[39m \u001b[43msimulator\u001b[49m\u001b[38;5;241;43m.\u001b[39;49m\u001b[43msimulate\u001b[49m\u001b[43m(\u001b[49m\u001b[43md\u001b[49m\u001b[43m)\u001b[49m\n\u001b[1;32m     12\u001b[0m     correct \u001b[38;5;241m=\u001b[39m np\u001b[38;5;241m.\u001b[39msum(result[\u001b[38;5;124m\"\u001b[39m\u001b[38;5;124mdecoded_bits\u001b[39m\u001b[38;5;124m\"\u001b[39m] \u001b[38;5;241m==\u001b[39m np\u001b[38;5;241m.\u001b[39marray(d)) \u001b[38;5;241m/\u001b[39m n\n\u001b[1;32m     13\u001b[0m     average\u001b[38;5;241m.\u001b[39mappend(correct)\n",
      "File \u001b[0;32m~/Desktop/qcdma/qcdma/simulator.py:63\u001b[0m, in \u001b[0;36mSimulatorQCDMA.simulate\u001b[0;34m(self, data)\u001b[0m\n\u001b[1;32m     61\u001b[0m \u001b[38;5;28;01mdef\u001b[39;00m \u001b[38;5;21msimulate\u001b[39m(\u001b[38;5;28mself\u001b[39m, data: Iterable):\n\u001b[1;32m     62\u001b[0m     \u001b[38;5;28;01massert\u001b[39;00m \u001b[38;5;28mlen\u001b[39m(data) \u001b[38;5;241m==\u001b[39m \u001b[38;5;28mself\u001b[39m\u001b[38;5;241m.\u001b[39mn_users\n\u001b[0;32m---> 63\u001b[0m     psi_e \u001b[38;5;241m=\u001b[39m \u001b[38;5;28;43mself\u001b[39;49m\u001b[38;5;241;43m.\u001b[39;49m\u001b[43mpsi_e\u001b[49m\u001b[43m(\u001b[49m\u001b[43mdata\u001b[49m\u001b[43m)\u001b[49m\n\u001b[1;32m     64\u001b[0m     phi_e \u001b[38;5;241m=\u001b[39m \u001b[38;5;28mself\u001b[39m\u001b[38;5;241m.\u001b[39mB\u001b[38;5;241m.\u001b[39mT \u001b[38;5;241m@\u001b[39m psi_e\n\u001b[1;32m     65\u001b[0m     phi_d \u001b[38;5;241m=\u001b[39m \u001b[38;5;28mself\u001b[39m\u001b[38;5;241m.\u001b[39mphi_d(phi_e)\n",
      "File \u001b[0;32m~/Desktop/qcdma/qcdma/simulator.py:34\u001b[0m, in \u001b[0;36mSimulatorQCDMA.psi_e\u001b[0;34m(self, data)\u001b[0m\n\u001b[1;32m     33\u001b[0m \u001b[38;5;28;01mdef\u001b[39;00m \u001b[38;5;21mpsi_e\u001b[39m(\u001b[38;5;28mself\u001b[39m, data: np\u001b[38;5;241m.\u001b[39mndarray) \u001b[38;5;241m-\u001b[39m\u001b[38;5;241m>\u001b[39m np\u001b[38;5;241m.\u001b[39mndarray:\n\u001b[0;32m---> 34\u001b[0m     \u001b[38;5;28;01mreturn\u001b[39;00m np\u001b[38;5;241m.\u001b[39mvstack([\u001b[38;5;28mself\u001b[39m\u001b[38;5;241m.\u001b[39mtransmitter[i]\u001b[38;5;241m.\u001b[39msend(x) \u001b[38;5;28;01mfor\u001b[39;00m i, x \u001b[38;5;129;01min\u001b[39;00m \u001b[38;5;28menumerate\u001b[39m(data)])\n",
      "\u001b[0;31mKeyboardInterrupt\u001b[0m: "
     ]
    }
   ],
   "source": [
    "R = []\n",
    "total = 8\n",
    "for i in (pbar := tqdm(range(1000))):\n",
    "    results = []\n",
    "    for n in range(2, total + 1):\n",
    "        data = [list(comb) for comb in product([0, 1], repeat=n)]\n",
    "        average = []\n",
    "        simulator = SimulatorQCDMA(n, \"gamma\", alpha_transmitter=1.0)\n",
    "        pbar.set_postfix({\"n\": n})\n",
    "        for d in data:\n",
    "            result = simulator.simulate(d)\n",
    "            correct = np.sum(result[\"decoded_bits\"] == np.array(d)) / n\n",
    "            average.append(correct)\n",
    "        results.append(1 - np.mean(average))\n",
    "    R.append(results)\n",
    "\n",
    "x = np.arange(len(results)) + 2\n",
    "plt.plot(x, np.mean(R, axis=0), \"-o\")\n",
    "plt.xticks(x)\n",
    "plt.xlabel(\"$M$\")\n",
    "plt.ylabel(\"BER\")\n",
    "plt.title(\"QCDMA\")\n",
    "plt.tight_layout()\n",
    "plt.show()"
   ]
  },
  {
   "cell_type": "code",
   "execution_count": null,
   "metadata": {},
   "outputs": [],
   "source": []
  }
 ],
 "metadata": {
  "kernelspec": {
   "display_name": ".venv",
   "language": "python",
   "name": "python3"
  },
  "language_info": {
   "codemirror_mode": {
    "name": "ipython",
    "version": 3
   },
   "file_extension": ".py",
   "mimetype": "text/x-python",
   "name": "python",
   "nbconvert_exporter": "python",
   "pygments_lexer": "ipython3",
   "version": "3.12.5"
  }
 },
 "nbformat": 4,
 "nbformat_minor": 2
}
